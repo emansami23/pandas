{
 "cells": [
  {
   "cell_type": "code",
   "execution_count": 7,
   "metadata": {},
   "outputs": [],
   "source": [
    "import pandas as pd\n",
    "people={\n",
    "    \"first\":['Eman','Nada','Hala'],\n",
    "    \"last\":['sami','yasser','mourad'],\n",
    "    \"email\":['esamy369@gmail','nada3342@gmail','hal232@gmai']\n",
    "}\n"
   ]
  },
  {
   "cell_type": "code",
   "execution_count": 2,
   "metadata": {},
   "outputs": [
    {
     "data": {
      "text/plain": [
       "['esamy369@gmail', 'nada3342@gmail', 'hal232@gmai']"
      ]
     },
     "execution_count": 2,
     "metadata": {},
     "output_type": "execute_result"
    }
   ],
   "source": [
    " #access email column\n",
    "people[\"email\"]"
   ]
  },
  {
   "cell_type": "code",
   "execution_count": 10,
   "metadata": {},
   "outputs": [
    {
     "name": "stdout",
     "output_type": "stream",
     "text": [
      "  first    last           email\n",
      "0  Eman    sami  esamy369@gmail\n",
      "1  Nada  yasser  nada3342@gmail\n",
      "2  Hala  mourad     hal232@gmai\n",
      "\n",
      "\n",
      "0    esamy369@gmail\n",
      "1    nada3342@gmail\n",
      "2       hal232@gmai\n",
      "Name: email, dtype: object\n",
      "\n",
      "\n"
     ]
    },
    {
     "data": {
      "text/plain": [
       "pandas.core.series.Series"
      ]
     },
     "execution_count": 10,
     "metadata": {},
     "output_type": "execute_result"
    }
   ],
   "source": [
    " #using pandas dataframe\n",
    "df=pd.DataFrame(people) \n",
    " #show df\n",
    "print(df)\n",
    "print('\\n')\n",
    " #access email column\n",
    "print(df[\"email\"])\n",
    " #access email column using dot\n",
    " #df.email\n",
    "print('\\n')\n",
    " #the difference in datatype between email (in dic) and email (in dataframe)\n",
    "type(\"email\") \n",
    "type(df[\"email\"])"
   ]
  },
  {
   "cell_type": "code",
   "execution_count": 11,
   "metadata": {},
   "outputs": [
    {
     "name": "stdout",
     "output_type": "stream",
     "text": [
      "RangeIndex(start=0, stop=3, step=1)\n",
      "\n",
      "\n",
      "[['Eman' 'sami' 'esamy369@gmail']\n",
      " ['Nada' 'yasser' 'nada3342@gmail']\n",
      " ['Hala' 'mourad' 'hal232@gmai']]\n",
      "\n",
      "\n",
      "Index(['first', 'last', 'email'], dtype='object')\n"
     ]
    }
   ],
   "source": [
    "#show the whole index\n",
    "print(df.index)\n",
    "print('\\n')\n",
    " #show the whole values\n",
    "print(df.values)\n",
    "print('\\n')\n",
    " #show the whole columns\n",
    "print(df.columns) "
   ]
  },
  {
   "cell_type": "code",
   "execution_count": 13,
   "metadata": {},
   "outputs": [
    {
     "name": "stdout",
     "output_type": "stream",
     "text": [
      "first              Eman\n",
      "last               sami\n",
      "email    esamy369@gmail\n",
      "Name: 0, dtype: object\n",
      "\n",
      "\n",
      "  first  last           email\n",
      "0  Eman  sami  esamy369@gmail\n",
      "\n",
      "\n",
      "  first    last           email\n",
      "0  Eman    sami  esamy369@gmail\n",
      "1  Nada  yasser  nada3342@gmail\n",
      "\n",
      "\n",
      "  first    last           email\n",
      "0  Eman    sami  esamy369@gmail\n",
      "1  Nada  yasser  nada3342@gmail\n",
      "\n",
      "\n"
     ]
    }
   ],
   "source": [
    "#using iloc(integer position_based)\n",
    " #access the first row only using index\n",
    "print(df.iloc[0])\n",
    "print('\\n')\n",
    "print(df.iloc[0:1])\n",
    "print('\\n')\n",
    " #access the first and second rows using index\n",
    "print(df.iloc[[0,1]])\n",
    "print('\\n')\n",
    "print(df.iloc[0:2])\n",
    "print('\\n')\n",
    " \n",
    "\n"
   ]
  },
  {
   "cell_type": "code",
   "execution_count": 14,
   "metadata": {},
   "outputs": [
    {
     "name": "stdout",
     "output_type": "stream",
     "text": [
      "0    esamy369@gmail\n",
      "1    nada3342@gmail\n",
      "Name: email, dtype: object\n",
      "\n",
      "\n",
      "  first    last\n",
      "0  Eman    sami\n",
      "1  Nada  yasser\n"
     ]
    }
   ],
   "source": [
    " #access index 2 in columns \n",
    "print(df.iloc[[0,1],2])\n",
    " #output:getting 2 values that is opposite to the 2 rows that sclicing\n",
    "print('\\n')\n",
    " #access the first, second rows and columns using index\n",
    "print(df.iloc[0:2,0:2])"
   ]
  },
  {
   "cell_type": "code",
   "execution_count": 15,
   "metadata": {},
   "outputs": [
    {
     "name": "stdout",
     "output_type": "stream",
     "text": [
      "0    esamy369@gmail\n",
      "1    nada3342@gmail\n",
      "Name: email, dtype: object\n",
      "\n",
      "\n",
      "  first    last\n",
      "0  Eman    sami\n",
      "1  Nada  yasser\n"
     ]
    }
   ],
   "source": [
    " #using loc\n",
    "print(df.loc[0:1,\"email\"])\n",
    "print('\\n')\n",
    "print(df.loc[[0,1],\"first\":\"last\"]) "
   ]
  },
  {
   "cell_type": "code",
   "execution_count": null,
   "metadata": {},
   "outputs": [],
   "source": []
  }
 ],
 "metadata": {
  "kernelspec": {
   "display_name": "Python 3.8.5 64-bit",
   "language": "python",
   "name": "python3"
  },
  "language_info": {
   "codemirror_mode": {
    "name": "ipython",
    "version": 3
   },
   "file_extension": ".py",
   "mimetype": "text/x-python",
   "name": "python",
   "nbconvert_exporter": "python",
   "pygments_lexer": "ipython3",
   "version": "3.8.5"
  },
  "orig_nbformat": 4,
  "vscode": {
   "interpreter": {
    "hash": "e05dc2a4a4b634fbf61d824b166773299eacb6b8275646f39abc09a87d6cd2e3"
   }
  }
 },
 "nbformat": 4,
 "nbformat_minor": 2
}
